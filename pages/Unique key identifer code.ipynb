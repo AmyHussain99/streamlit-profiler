{
 "cells": [
  {
   "cell_type": "code",
   "execution_count": null,
   "id": "996b913c",
   "metadata": {},
   "outputs": [],
   "source": [
    "# --- Unique identifier (key) finder ---\n",
    "st.subheader(\"Unique identifier (key) finder\")\n",
    "st.markdown(\n",
    "    \"We first check for a **single column** that uniquely identifies each row (no blanks, all values different). \"\n",
    "    \"If none, you can **try combinations** (pairs/triads) that together make each row unique.\"\n",
    ")\n",
    "# Single-column keys\n",
    "single_keys = card[(card[\"Unique\"] == n_rows) & (card[\"Missing\"] == 0)][\"Column\"].tolist()\n",
    "if single_keys:\n",
    "    st.success(f\"Single-column key candidates: {', '.join(single_keys)}\")\n",
    "else:\n",
    "    st.info(\"No perfect single-column key found.\")\n",
    "\n",
    "# Composite keys (guided)\n",
    "with st.expander(\"Find composite keys (pairs/triads) — guided search\"):\n",
    "    st.markdown(\n",
    "        \"💡 **Tip:** Start small (top 6–10 columns by uniqueness). \"\n",
    "        \"Pairs are fast to test; triads can work if pairs don’t.\"\n",
    "    )\n",
    "    max_cols_to_check = st.slider(\"Max columns considered (by uniqueness)\", 3, min(12, len(df.columns)), 8)\n",
    "    max_comb_size = st.select_slider(\"Max combination size\", options=[2, 3], value=2,\n",
    "                                     help=\"Try pairs first; if none found, try triads.\")\n",
    "    # choose top-N by uniqueness\n",
    "    top_cols = card.sort_values(\"Unique\", ascending=False, ignore_index=True)[\"Column\"].head(max_cols_to_check).tolist()\n",
    "\n",
    "    composite_hits = []\n",
    "    for r in range(2, max_comb_size + 1):\n",
    "        for combo in itertools.combinations(top_cols, r):\n",
    "            # skip combos with any missing values\n",
    "            if any(df[c].isna().any() for c in combo):\n",
    "                continue\n",
    "            # unique rows when using those columns together?\n",
    "            if df[list(combo)].drop_duplicates().shape[0] == n_rows:\n",
    "                composite_hits.append(combo)\n",
    "\n",
    "    if composite_hits:\n",
    "        st.success(\"Composite key candidates found:\")\n",
    "        for combo in composite_hits[:10]:  # keep UI tidy\n",
    "            st.write(\" • \" + \", \".join(combo))\n",
    "        if len(composite_hits) > 10:\n",
    "            st.caption(f\"...and {len(composite_hits) - 10} more.\")\n",
    "    else:\n",
    "        st.warning(\"No composite key found within the chosen limits. Try more columns or include triads.\")\n",
    "\n",
    "st.caption(\"💡 Tip: Keys are useful for joining tables, tracking records, and de-duplicating.\")"
   ]
  }
 ],
 "metadata": {
  "language_info": {
   "name": "python"
  }
 },
 "nbformat": 4,
 "nbformat_minor": 5
}
